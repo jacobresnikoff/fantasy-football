{
 "cells": [
  {
   "cell_type": "markdown",
   "source": [
    "# Analyzing Fantasy Football Data"
   ],
   "metadata": {}
  },
  {
   "cell_type": "code",
   "execution_count": 2,
   "source": [
    "# import dependencies\n",
    "import numpy as np\n",
    "import pandas as pd\n",
    "import matplotlib.pyplot as plt\n",
    "%matplotlib inline\n",
    "import seaborn as sns"
   ],
   "outputs": [],
   "metadata": {}
  },
  {
   "cell_type": "markdown",
   "source": [
    "## Importing Data"
   ],
   "metadata": {}
  },
  {
   "cell_type": "code",
   "execution_count": 3,
   "source": [
    "players = pd.read_csv('https://raw.githubusercontent.com/fantasydatapros/data/master/yearly/2020.csv')\n",
    "defense = pd.read_html('http://www.fantasypros.com/nfl/points-allowed.php?year=2020')\n",
    "\n",
    "row_indices = [i for i in range(1, 64, 2)]\n",
    "defense = defense[0].drop(row_indices, axis=0).reset_index()"
   ],
   "outputs": [],
   "metadata": {}
  },
  {
   "cell_type": "code",
   "execution_count": 4,
   "source": [
    "players.columns"
   ],
   "outputs": [
    {
     "output_type": "execute_result",
     "data": {
      "text/plain": [
       "Index(['Player', 'Tm', 'Pos', 'Age', 'G', 'GS', 'Tgt', 'Rec', 'PassingYds',\n",
       "       'PassingTD', 'PassingAtt', 'RushingYds', 'RushingTD', 'RushingAtt',\n",
       "       'ReceivingYds', 'ReceivingTD', 'FantasyPoints', 'Int', 'Fumbles',\n",
       "       'FumblesLost'],\n",
       "      dtype='object')"
      ]
     },
     "metadata": {},
     "execution_count": 4
    }
   ],
   "metadata": {}
  },
  {
   "cell_type": "code",
   "execution_count": 26,
   "source": [
    "players.rename({'Tm': 'Team'}, axis=1, inplace=True)"
   ],
   "outputs": [],
   "metadata": {}
  },
  {
   "cell_type": "code",
   "execution_count": 27,
   "source": [
    "players.head()"
   ],
   "outputs": [
    {
     "output_type": "execute_result",
     "data": {
      "text/plain": [
       "          Player Team Pos   Age   G  GS  Tgt  Rec  PassingYds  PassingTD  \\\n",
       "0  Derrick Henry  TEN  RB  26.0  16  16   31   19           0          0   \n",
       "1   Alvin Kamara  NOR  RB  25.0  15  10  107   83           0          0   \n",
       "2    Dalvin Cook  MIN  RB  25.0  14  14   54   44           0          0   \n",
       "3  Davante Adams  GNB  WR  28.0  14  14  149  115           0          0   \n",
       "4   Travis Kelce  KAN  TE  31.0  15  15  145  105           4          0   \n",
       "\n",
       "   PassingAtt  RushingYds  RushingTD  RushingAtt  ReceivingYds  ReceivingTD  \\\n",
       "0           0        2027         17         378           114            0   \n",
       "1           0         932         16         187           756            5   \n",
       "2           0        1557         16         312           361            1   \n",
       "3           0           0          0           0          1374           18   \n",
       "4           2           0          0           0          1416           11   \n",
       "\n",
       "   FantasyPoints  Int  Fumbles  FumblesLost  \n",
       "0          314.0    0        3            2  \n",
       "1          295.0    0        1            0  \n",
       "2          294.0    0        5            3  \n",
       "3          243.0    0        1            1  \n",
       "4          208.0    0        1            1  "
      ],
      "text/html": [
       "<div>\n",
       "<style scoped>\n",
       "    .dataframe tbody tr th:only-of-type {\n",
       "        vertical-align: middle;\n",
       "    }\n",
       "\n",
       "    .dataframe tbody tr th {\n",
       "        vertical-align: top;\n",
       "    }\n",
       "\n",
       "    .dataframe thead th {\n",
       "        text-align: right;\n",
       "    }\n",
       "</style>\n",
       "<table border=\"1\" class=\"dataframe\">\n",
       "  <thead>\n",
       "    <tr style=\"text-align: right;\">\n",
       "      <th></th>\n",
       "      <th>Player</th>\n",
       "      <th>Team</th>\n",
       "      <th>Pos</th>\n",
       "      <th>Age</th>\n",
       "      <th>G</th>\n",
       "      <th>GS</th>\n",
       "      <th>Tgt</th>\n",
       "      <th>Rec</th>\n",
       "      <th>PassingYds</th>\n",
       "      <th>PassingTD</th>\n",
       "      <th>PassingAtt</th>\n",
       "      <th>RushingYds</th>\n",
       "      <th>RushingTD</th>\n",
       "      <th>RushingAtt</th>\n",
       "      <th>ReceivingYds</th>\n",
       "      <th>ReceivingTD</th>\n",
       "      <th>FantasyPoints</th>\n",
       "      <th>Int</th>\n",
       "      <th>Fumbles</th>\n",
       "      <th>FumblesLost</th>\n",
       "    </tr>\n",
       "  </thead>\n",
       "  <tbody>\n",
       "    <tr>\n",
       "      <th>0</th>\n",
       "      <td>Derrick Henry</td>\n",
       "      <td>TEN</td>\n",
       "      <td>RB</td>\n",
       "      <td>26.0</td>\n",
       "      <td>16</td>\n",
       "      <td>16</td>\n",
       "      <td>31</td>\n",
       "      <td>19</td>\n",
       "      <td>0</td>\n",
       "      <td>0</td>\n",
       "      <td>0</td>\n",
       "      <td>2027</td>\n",
       "      <td>17</td>\n",
       "      <td>378</td>\n",
       "      <td>114</td>\n",
       "      <td>0</td>\n",
       "      <td>314.0</td>\n",
       "      <td>0</td>\n",
       "      <td>3</td>\n",
       "      <td>2</td>\n",
       "    </tr>\n",
       "    <tr>\n",
       "      <th>1</th>\n",
       "      <td>Alvin Kamara</td>\n",
       "      <td>NOR</td>\n",
       "      <td>RB</td>\n",
       "      <td>25.0</td>\n",
       "      <td>15</td>\n",
       "      <td>10</td>\n",
       "      <td>107</td>\n",
       "      <td>83</td>\n",
       "      <td>0</td>\n",
       "      <td>0</td>\n",
       "      <td>0</td>\n",
       "      <td>932</td>\n",
       "      <td>16</td>\n",
       "      <td>187</td>\n",
       "      <td>756</td>\n",
       "      <td>5</td>\n",
       "      <td>295.0</td>\n",
       "      <td>0</td>\n",
       "      <td>1</td>\n",
       "      <td>0</td>\n",
       "    </tr>\n",
       "    <tr>\n",
       "      <th>2</th>\n",
       "      <td>Dalvin Cook</td>\n",
       "      <td>MIN</td>\n",
       "      <td>RB</td>\n",
       "      <td>25.0</td>\n",
       "      <td>14</td>\n",
       "      <td>14</td>\n",
       "      <td>54</td>\n",
       "      <td>44</td>\n",
       "      <td>0</td>\n",
       "      <td>0</td>\n",
       "      <td>0</td>\n",
       "      <td>1557</td>\n",
       "      <td>16</td>\n",
       "      <td>312</td>\n",
       "      <td>361</td>\n",
       "      <td>1</td>\n",
       "      <td>294.0</td>\n",
       "      <td>0</td>\n",
       "      <td>5</td>\n",
       "      <td>3</td>\n",
       "    </tr>\n",
       "    <tr>\n",
       "      <th>3</th>\n",
       "      <td>Davante Adams</td>\n",
       "      <td>GNB</td>\n",
       "      <td>WR</td>\n",
       "      <td>28.0</td>\n",
       "      <td>14</td>\n",
       "      <td>14</td>\n",
       "      <td>149</td>\n",
       "      <td>115</td>\n",
       "      <td>0</td>\n",
       "      <td>0</td>\n",
       "      <td>0</td>\n",
       "      <td>0</td>\n",
       "      <td>0</td>\n",
       "      <td>0</td>\n",
       "      <td>1374</td>\n",
       "      <td>18</td>\n",
       "      <td>243.0</td>\n",
       "      <td>0</td>\n",
       "      <td>1</td>\n",
       "      <td>1</td>\n",
       "    </tr>\n",
       "    <tr>\n",
       "      <th>4</th>\n",
       "      <td>Travis Kelce</td>\n",
       "      <td>KAN</td>\n",
       "      <td>TE</td>\n",
       "      <td>31.0</td>\n",
       "      <td>15</td>\n",
       "      <td>15</td>\n",
       "      <td>145</td>\n",
       "      <td>105</td>\n",
       "      <td>4</td>\n",
       "      <td>0</td>\n",
       "      <td>2</td>\n",
       "      <td>0</td>\n",
       "      <td>0</td>\n",
       "      <td>0</td>\n",
       "      <td>1416</td>\n",
       "      <td>11</td>\n",
       "      <td>208.0</td>\n",
       "      <td>0</td>\n",
       "      <td>1</td>\n",
       "      <td>1</td>\n",
       "    </tr>\n",
       "  </tbody>\n",
       "</table>\n",
       "</div>"
      ]
     },
     "metadata": {},
     "execution_count": 27
    }
   ],
   "metadata": {}
  },
  {
   "cell_type": "code",
   "execution_count": 28,
   "source": [
    "players['FantasyPoints'] = 0\n",
    "\n",
    "# fantasy points lost from fumbles lost and interception\n",
    "players['FantasyPoints'] -= players['FumblesLost'] * 2\n",
    "players['FantasyPoints'] -= players['Int'] * 2\n",
    "\n",
    "# fantasy points gained from passing yds, passing TDs, rushing and receiving yds, and rushing and receiving TDs\n",
    "players['FantasyPoints'] += players['PassingYds'] / 25\n",
    "players['FantasyPoints'] += players['PassingTD'] * 4\n",
    "players['FantasyPoints'] += players['RushingYds'] / 10\n",
    "players['FantasyPoints'] += players['RushingTD'] * 6\n",
    "players['FantasyPoints'] += players['ReceivingYds'] / 10\n",
    "players['FantasyPoints'] += players['ReceivingTD'] * 6\n",
    "\n",
    "# fantasy points for 0.5 PPR\n",
    "players['FantasyPoints'] += players['Rec'] / 2"
   ],
   "outputs": [],
   "metadata": {}
  },
  {
   "cell_type": "code",
   "execution_count": 40,
   "source": [
    "players = players.sort_values('FantasyPoints', ascending=False)\n",
    "\n",
    "QB = players[players['Pos'] == 'QB'] \n",
    "QB = QB.reset_index()\n",
    "\n",
    "RB = players[players['Pos'] == 'RB'] \n",
    "RB = RB.reset_index()\n",
    "\n",
    "WR = players[players['Pos'] == 'WR'] \n",
    "WR = WR.reset_index()\n",
    "\n",
    "TE = players[players['Pos'] == 'TE']\n",
    "TE = TE.reset_index()"
   ],
   "outputs": [],
   "metadata": {}
  }
 ],
 "metadata": {
  "orig_nbformat": 4,
  "language_info": {
   "name": "python",
   "version": "3.9.4",
   "mimetype": "text/x-python",
   "codemirror_mode": {
    "name": "ipython",
    "version": 3
   },
   "pygments_lexer": "ipython3",
   "nbconvert_exporter": "python",
   "file_extension": ".py"
  },
  "kernelspec": {
   "name": "python3",
   "display_name": "Python 3.9.4 64-bit ('Py39': conda)"
  },
  "interpreter": {
   "hash": "b8e218e5f79a35ce5e8f351f122e25f83cbdb439f423989ddd456044b16f4b9b"
  }
 },
 "nbformat": 4,
 "nbformat_minor": 2
}