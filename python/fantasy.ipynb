{
 "cells": [
  {
   "cell_type": "markdown",
   "source": [
    "# Analyzing Fantasy Football Data"
   ],
   "metadata": {}
  },
  {
   "cell_type": "code",
   "execution_count": 1,
   "source": [
    "# import dependencies\n",
    "import numpy as np\n",
    "import pandas as pd\n",
    "import matplotlib.pyplot as plt\n",
    "%matplotlib inline\n",
    "import seaborn as sns"
   ],
   "outputs": [],
   "metadata": {}
  },
  {
   "cell_type": "markdown",
   "source": [
    "## Importing Data"
   ],
   "metadata": {}
  },
  {
   "cell_type": "code",
   "execution_count": 18,
   "source": [
    "df = pd.read_csv('https://raw.githubusercontent.com/fantasydatapros/data/master/yearly/2020.csv')"
   ],
   "outputs": [],
   "metadata": {}
  },
  {
   "cell_type": "code",
   "execution_count": 22,
   "source": [
    "df.head()"
   ],
   "outputs": [
    {
     "output_type": "execute_result",
     "data": {
      "text/plain": [
       "          Player   Tm Pos   Age   G  GS  Tgt  Rec  PassingYds  PassingTD  \\\n",
       "0  Derrick Henry  TEN  RB  26.0  16  16   31   19           0          0   \n",
       "1   Alvin Kamara  NOR  RB  25.0  15  10  107   83           0          0   \n",
       "2    Dalvin Cook  MIN  RB  25.0  14  14   54   44           0          0   \n",
       "3  Davante Adams  GNB  WR  28.0  14  14  149  115           0          0   \n",
       "4   Travis Kelce  KAN  TE  31.0  15  15  145  105           4          0   \n",
       "\n",
       "   PassingAtt  RushingYds  RushingTD  RushingAtt  ReceivingYds  ReceivingTD  \\\n",
       "0           0        2027         17         378           114            0   \n",
       "1           0         932         16         187           756            5   \n",
       "2           0        1557         16         312           361            1   \n",
       "3           0           0          0           0          1374           18   \n",
       "4           2           0          0           0          1416           11   \n",
       "\n",
       "   FantasyPoints  Int  Fumbles  FumblesLost  \n",
       "0          314.0    0        3            2  \n",
       "1          295.0    0        1            0  \n",
       "2          294.0    0        5            3  \n",
       "3          243.0    0        1            1  \n",
       "4          208.0    0        1            1  "
      ],
      "text/html": [
       "<div>\n",
       "<style scoped>\n",
       "    .dataframe tbody tr th:only-of-type {\n",
       "        vertical-align: middle;\n",
       "    }\n",
       "\n",
       "    .dataframe tbody tr th {\n",
       "        vertical-align: top;\n",
       "    }\n",
       "\n",
       "    .dataframe thead th {\n",
       "        text-align: right;\n",
       "    }\n",
       "</style>\n",
       "<table border=\"1\" class=\"dataframe\">\n",
       "  <thead>\n",
       "    <tr style=\"text-align: right;\">\n",
       "      <th></th>\n",
       "      <th>Player</th>\n",
       "      <th>Tm</th>\n",
       "      <th>Pos</th>\n",
       "      <th>Age</th>\n",
       "      <th>G</th>\n",
       "      <th>GS</th>\n",
       "      <th>Tgt</th>\n",
       "      <th>Rec</th>\n",
       "      <th>PassingYds</th>\n",
       "      <th>PassingTD</th>\n",
       "      <th>PassingAtt</th>\n",
       "      <th>RushingYds</th>\n",
       "      <th>RushingTD</th>\n",
       "      <th>RushingAtt</th>\n",
       "      <th>ReceivingYds</th>\n",
       "      <th>ReceivingTD</th>\n",
       "      <th>FantasyPoints</th>\n",
       "      <th>Int</th>\n",
       "      <th>Fumbles</th>\n",
       "      <th>FumblesLost</th>\n",
       "    </tr>\n",
       "  </thead>\n",
       "  <tbody>\n",
       "    <tr>\n",
       "      <th>0</th>\n",
       "      <td>Derrick Henry</td>\n",
       "      <td>TEN</td>\n",
       "      <td>RB</td>\n",
       "      <td>26.0</td>\n",
       "      <td>16</td>\n",
       "      <td>16</td>\n",
       "      <td>31</td>\n",
       "      <td>19</td>\n",
       "      <td>0</td>\n",
       "      <td>0</td>\n",
       "      <td>0</td>\n",
       "      <td>2027</td>\n",
       "      <td>17</td>\n",
       "      <td>378</td>\n",
       "      <td>114</td>\n",
       "      <td>0</td>\n",
       "      <td>314.0</td>\n",
       "      <td>0</td>\n",
       "      <td>3</td>\n",
       "      <td>2</td>\n",
       "    </tr>\n",
       "    <tr>\n",
       "      <th>1</th>\n",
       "      <td>Alvin Kamara</td>\n",
       "      <td>NOR</td>\n",
       "      <td>RB</td>\n",
       "      <td>25.0</td>\n",
       "      <td>15</td>\n",
       "      <td>10</td>\n",
       "      <td>107</td>\n",
       "      <td>83</td>\n",
       "      <td>0</td>\n",
       "      <td>0</td>\n",
       "      <td>0</td>\n",
       "      <td>932</td>\n",
       "      <td>16</td>\n",
       "      <td>187</td>\n",
       "      <td>756</td>\n",
       "      <td>5</td>\n",
       "      <td>295.0</td>\n",
       "      <td>0</td>\n",
       "      <td>1</td>\n",
       "      <td>0</td>\n",
       "    </tr>\n",
       "    <tr>\n",
       "      <th>2</th>\n",
       "      <td>Dalvin Cook</td>\n",
       "      <td>MIN</td>\n",
       "      <td>RB</td>\n",
       "      <td>25.0</td>\n",
       "      <td>14</td>\n",
       "      <td>14</td>\n",
       "      <td>54</td>\n",
       "      <td>44</td>\n",
       "      <td>0</td>\n",
       "      <td>0</td>\n",
       "      <td>0</td>\n",
       "      <td>1557</td>\n",
       "      <td>16</td>\n",
       "      <td>312</td>\n",
       "      <td>361</td>\n",
       "      <td>1</td>\n",
       "      <td>294.0</td>\n",
       "      <td>0</td>\n",
       "      <td>5</td>\n",
       "      <td>3</td>\n",
       "    </tr>\n",
       "    <tr>\n",
       "      <th>3</th>\n",
       "      <td>Davante Adams</td>\n",
       "      <td>GNB</td>\n",
       "      <td>WR</td>\n",
       "      <td>28.0</td>\n",
       "      <td>14</td>\n",
       "      <td>14</td>\n",
       "      <td>149</td>\n",
       "      <td>115</td>\n",
       "      <td>0</td>\n",
       "      <td>0</td>\n",
       "      <td>0</td>\n",
       "      <td>0</td>\n",
       "      <td>0</td>\n",
       "      <td>0</td>\n",
       "      <td>1374</td>\n",
       "      <td>18</td>\n",
       "      <td>243.0</td>\n",
       "      <td>0</td>\n",
       "      <td>1</td>\n",
       "      <td>1</td>\n",
       "    </tr>\n",
       "    <tr>\n",
       "      <th>4</th>\n",
       "      <td>Travis Kelce</td>\n",
       "      <td>KAN</td>\n",
       "      <td>TE</td>\n",
       "      <td>31.0</td>\n",
       "      <td>15</td>\n",
       "      <td>15</td>\n",
       "      <td>145</td>\n",
       "      <td>105</td>\n",
       "      <td>4</td>\n",
       "      <td>0</td>\n",
       "      <td>2</td>\n",
       "      <td>0</td>\n",
       "      <td>0</td>\n",
       "      <td>0</td>\n",
       "      <td>1416</td>\n",
       "      <td>11</td>\n",
       "      <td>208.0</td>\n",
       "      <td>0</td>\n",
       "      <td>1</td>\n",
       "      <td>1</td>\n",
       "    </tr>\n",
       "  </tbody>\n",
       "</table>\n",
       "</div>"
      ]
     },
     "metadata": {},
     "execution_count": 22
    }
   ],
   "metadata": {}
  },
  {
   "cell_type": "code",
   "execution_count": null,
   "source": [],
   "outputs": [],
   "metadata": {}
  },
  {
   "cell_type": "markdown",
   "source": [
    "## lalalallala"
   ],
   "metadata": {}
  },
  {
   "cell_type": "code",
   "execution_count": null,
   "source": [
    "def urlFilereader(url_prefix, filename_iterable, file_ext):\n",
    "    import pandas as pd\n",
    "\n",
    "    for i in filename_iterable:\n",
    "        \n",
    "        pd.read_csv(url_prefix + file_name + file_ext)\n",
    "    "
   ],
   "outputs": [],
   "metadata": {}
  },
  {
   "cell_type": "code",
   "execution_count": 9,
   "source": [
    "def urliterator(url_prefix, filename_iterable, file_ext):\n",
    "    import pandas as pd\n",
    "    df = pd.DataFrame()\n",
    "\n",
    "    for i in filename_iterable:\n",
    "        print(url_prefix + str(i) + file_ext)\n",
    "\n",
    "        df = pd.concat()\n",
    "\n",
    "url_prefix = 'https://raw.githubusercontent.com/fantasydatapros/data/master/yearly/'\n",
    "filename_iterable = range(2015, 2020)\n",
    "file_ext = '.csv'\n",
    "urliterator(url_prefix, filename_iterable, file_ext)"
   ],
   "outputs": [
    {
     "output_type": "stream",
     "name": "stdout",
     "text": [
      "https://raw.githubusercontent.com/fantasydatapros/data/master/yearly/2015.csv\n",
      "https://raw.githubusercontent.com/fantasydatapros/data/master/yearly/2016.csv\n",
      "https://raw.githubusercontent.com/fantasydatapros/data/master/yearly/2017.csv\n",
      "https://raw.githubusercontent.com/fantasydatapros/data/master/yearly/2018.csv\n",
      "https://raw.githubusercontent.com/fantasydatapros/data/master/yearly/2019.csv\n"
     ]
    }
   ],
   "metadata": {}
  },
  {
   "cell_type": "code",
   "execution_count": 14,
   "source": [
    "df1 = pd.read_csv('https://raw.githubusercontent.com/fantasydatapros/data/master/yearly/2016.csv')\n",
    "df2 = pd.read_csv('https://raw.githubusercontent.com/fantasydatapros/data/master/yearly/2017.csv')"
   ],
   "outputs": [],
   "metadata": {}
  }
 ],
 "metadata": {
  "orig_nbformat": 4,
  "language_info": {
   "name": "python",
   "version": "3.9.4",
   "mimetype": "text/x-python",
   "codemirror_mode": {
    "name": "ipython",
    "version": 3
   },
   "pygments_lexer": "ipython3",
   "nbconvert_exporter": "python",
   "file_extension": ".py"
  },
  "kernelspec": {
   "name": "python3",
   "display_name": "Python 3.9.4 64-bit ('Py39': conda)"
  },
  "interpreter": {
   "hash": "b8e218e5f79a35ce5e8f351f122e25f83cbdb439f423989ddd456044b16f4b9b"
  }
 },
 "nbformat": 4,
 "nbformat_minor": 2
}